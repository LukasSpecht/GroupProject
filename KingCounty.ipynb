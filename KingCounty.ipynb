{
 "cells": [
  {
   "cell_type": "code",
   "execution_count": 197,
   "metadata": {},
   "outputs": [],
   "source": [
    "#King county"
   ]
  },
  {
   "cell_type": "code",
   "execution_count": 198,
   "metadata": {},
   "outputs": [],
   "source": [
    "import numpy as np\n",
    "import pandas as pd\n",
    "from sklearn.model_selection import train_test_split, cross_val_score, GridSearchCV, RandomizedSearchCV\n",
    "from sklearn.preprocessing import MinMaxScaler\n",
    "from sklearn.feature_selection import SelectKBest, f_regression\n",
    "from sklearn.linear_model import LinearRegression\n",
    "from sklearn.neighbors import KNeighborsRegressor\n",
    "from operator import itemgetter\n",
    "from sklearn.ensemble import RandomForestRegressor\n",
    "import seaborn as sns\n",
    "import matplotlib.pyplot as plt\n",
    "%matplotlib inline\n",
    "pd.options.mode.chained_assignment = None  #default='warn'\n"
   ]
  },
  {
   "cell_type": "code",
   "execution_count": 199,
   "metadata": {},
   "outputs": [],
   "source": [
    "df = pd.read_csv('kc_house_data.csv')"
   ]
  },
  {
   "cell_type": "code",
   "execution_count": 200,
   "metadata": {},
   "outputs": [
    {
     "data": {
      "text/plain": [
       "False"
      ]
     },
     "execution_count": 200,
     "metadata": {},
     "output_type": "execute_result"
    }
   ],
   "source": [
    "df.isnull().values.any()"
   ]
  },
  {
   "cell_type": "code",
   "execution_count": 201,
   "metadata": {},
   "outputs": [
    {
     "data": {
      "text/html": [
       "<div>\n",
       "<style scoped>\n",
       "    .dataframe tbody tr th:only-of-type {\n",
       "        vertical-align: middle;\n",
       "    }\n",
       "\n",
       "    .dataframe tbody tr th {\n",
       "        vertical-align: top;\n",
       "    }\n",
       "\n",
       "    .dataframe thead th {\n",
       "        text-align: right;\n",
       "    }\n",
       "</style>\n",
       "<table border=\"1\" class=\"dataframe\">\n",
       "  <thead>\n",
       "    <tr style=\"text-align: right;\">\n",
       "      <th></th>\n",
       "      <th>id</th>\n",
       "      <th>date</th>\n",
       "      <th>price</th>\n",
       "      <th>bedrooms</th>\n",
       "      <th>bathrooms</th>\n",
       "      <th>sqft_living</th>\n",
       "      <th>sqft_lot</th>\n",
       "      <th>floors</th>\n",
       "      <th>waterfront</th>\n",
       "      <th>view</th>\n",
       "      <th>...</th>\n",
       "      <th>grade</th>\n",
       "      <th>sqft_above</th>\n",
       "      <th>sqft_basement</th>\n",
       "      <th>yr_built</th>\n",
       "      <th>yr_renovated</th>\n",
       "      <th>zipcode</th>\n",
       "      <th>lat</th>\n",
       "      <th>long</th>\n",
       "      <th>sqft_living15</th>\n",
       "      <th>sqft_lot15</th>\n",
       "    </tr>\n",
       "  </thead>\n",
       "  <tbody>\n",
       "    <tr>\n",
       "      <th>0</th>\n",
       "      <td>7129300520</td>\n",
       "      <td>20141013T000000</td>\n",
       "      <td>221900.0</td>\n",
       "      <td>3</td>\n",
       "      <td>1.00</td>\n",
       "      <td>1180</td>\n",
       "      <td>5650</td>\n",
       "      <td>1.0</td>\n",
       "      <td>0</td>\n",
       "      <td>0</td>\n",
       "      <td>...</td>\n",
       "      <td>7</td>\n",
       "      <td>1180</td>\n",
       "      <td>0</td>\n",
       "      <td>1955</td>\n",
       "      <td>0</td>\n",
       "      <td>98178</td>\n",
       "      <td>47.5112</td>\n",
       "      <td>-122.257</td>\n",
       "      <td>1340</td>\n",
       "      <td>5650</td>\n",
       "    </tr>\n",
       "    <tr>\n",
       "      <th>1</th>\n",
       "      <td>6414100192</td>\n",
       "      <td>20141209T000000</td>\n",
       "      <td>538000.0</td>\n",
       "      <td>3</td>\n",
       "      <td>2.25</td>\n",
       "      <td>2570</td>\n",
       "      <td>7242</td>\n",
       "      <td>2.0</td>\n",
       "      <td>0</td>\n",
       "      <td>0</td>\n",
       "      <td>...</td>\n",
       "      <td>7</td>\n",
       "      <td>2170</td>\n",
       "      <td>400</td>\n",
       "      <td>1951</td>\n",
       "      <td>1991</td>\n",
       "      <td>98125</td>\n",
       "      <td>47.7210</td>\n",
       "      <td>-122.319</td>\n",
       "      <td>1690</td>\n",
       "      <td>7639</td>\n",
       "    </tr>\n",
       "    <tr>\n",
       "      <th>2</th>\n",
       "      <td>5631500400</td>\n",
       "      <td>20150225T000000</td>\n",
       "      <td>180000.0</td>\n",
       "      <td>2</td>\n",
       "      <td>1.00</td>\n",
       "      <td>770</td>\n",
       "      <td>10000</td>\n",
       "      <td>1.0</td>\n",
       "      <td>0</td>\n",
       "      <td>0</td>\n",
       "      <td>...</td>\n",
       "      <td>6</td>\n",
       "      <td>770</td>\n",
       "      <td>0</td>\n",
       "      <td>1933</td>\n",
       "      <td>0</td>\n",
       "      <td>98028</td>\n",
       "      <td>47.7379</td>\n",
       "      <td>-122.233</td>\n",
       "      <td>2720</td>\n",
       "      <td>8062</td>\n",
       "    </tr>\n",
       "    <tr>\n",
       "      <th>3</th>\n",
       "      <td>2487200875</td>\n",
       "      <td>20141209T000000</td>\n",
       "      <td>604000.0</td>\n",
       "      <td>4</td>\n",
       "      <td>3.00</td>\n",
       "      <td>1960</td>\n",
       "      <td>5000</td>\n",
       "      <td>1.0</td>\n",
       "      <td>0</td>\n",
       "      <td>0</td>\n",
       "      <td>...</td>\n",
       "      <td>7</td>\n",
       "      <td>1050</td>\n",
       "      <td>910</td>\n",
       "      <td>1965</td>\n",
       "      <td>0</td>\n",
       "      <td>98136</td>\n",
       "      <td>47.5208</td>\n",
       "      <td>-122.393</td>\n",
       "      <td>1360</td>\n",
       "      <td>5000</td>\n",
       "    </tr>\n",
       "    <tr>\n",
       "      <th>4</th>\n",
       "      <td>1954400510</td>\n",
       "      <td>20150218T000000</td>\n",
       "      <td>510000.0</td>\n",
       "      <td>3</td>\n",
       "      <td>2.00</td>\n",
       "      <td>1680</td>\n",
       "      <td>8080</td>\n",
       "      <td>1.0</td>\n",
       "      <td>0</td>\n",
       "      <td>0</td>\n",
       "      <td>...</td>\n",
       "      <td>8</td>\n",
       "      <td>1680</td>\n",
       "      <td>0</td>\n",
       "      <td>1987</td>\n",
       "      <td>0</td>\n",
       "      <td>98074</td>\n",
       "      <td>47.6168</td>\n",
       "      <td>-122.045</td>\n",
       "      <td>1800</td>\n",
       "      <td>7503</td>\n",
       "    </tr>\n",
       "  </tbody>\n",
       "</table>\n",
       "<p>5 rows × 21 columns</p>\n",
       "</div>"
      ],
      "text/plain": [
       "           id             date     price  bedrooms  bathrooms  sqft_living  \\\n",
       "0  7129300520  20141013T000000  221900.0         3       1.00         1180   \n",
       "1  6414100192  20141209T000000  538000.0         3       2.25         2570   \n",
       "2  5631500400  20150225T000000  180000.0         2       1.00          770   \n",
       "3  2487200875  20141209T000000  604000.0         4       3.00         1960   \n",
       "4  1954400510  20150218T000000  510000.0         3       2.00         1680   \n",
       "\n",
       "   sqft_lot  floors  waterfront  view  ...  grade  sqft_above  sqft_basement  \\\n",
       "0      5650     1.0           0     0  ...      7        1180              0   \n",
       "1      7242     2.0           0     0  ...      7        2170            400   \n",
       "2     10000     1.0           0     0  ...      6         770              0   \n",
       "3      5000     1.0           0     0  ...      7        1050            910   \n",
       "4      8080     1.0           0     0  ...      8        1680              0   \n",
       "\n",
       "   yr_built  yr_renovated  zipcode      lat     long  sqft_living15  \\\n",
       "0      1955             0    98178  47.5112 -122.257           1340   \n",
       "1      1951          1991    98125  47.7210 -122.319           1690   \n",
       "2      1933             0    98028  47.7379 -122.233           2720   \n",
       "3      1965             0    98136  47.5208 -122.393           1360   \n",
       "4      1987             0    98074  47.6168 -122.045           1800   \n",
       "\n",
       "   sqft_lot15  \n",
       "0        5650  \n",
       "1        7639  \n",
       "2        8062  \n",
       "3        5000  \n",
       "4        7503  \n",
       "\n",
       "[5 rows x 21 columns]"
      ]
     },
     "execution_count": 201,
     "metadata": {},
     "output_type": "execute_result"
    }
   ],
   "source": [
    "df.head()"
   ]
  },
  {
   "cell_type": "code",
   "execution_count": 202,
   "metadata": {},
   "outputs": [
    {
     "data": {
      "text/html": [
       "<div>\n",
       "<style scoped>\n",
       "    .dataframe tbody tr th:only-of-type {\n",
       "        vertical-align: middle;\n",
       "    }\n",
       "\n",
       "    .dataframe tbody tr th {\n",
       "        vertical-align: top;\n",
       "    }\n",
       "\n",
       "    .dataframe thead th {\n",
       "        text-align: right;\n",
       "    }\n",
       "</style>\n",
       "<table border=\"1\" class=\"dataframe\">\n",
       "  <thead>\n",
       "    <tr style=\"text-align: right;\">\n",
       "      <th></th>\n",
       "      <th>date</th>\n",
       "      <th>price</th>\n",
       "      <th>bedrooms</th>\n",
       "      <th>bathrooms</th>\n",
       "      <th>sqft_living</th>\n",
       "      <th>sqft_lot</th>\n",
       "      <th>floors</th>\n",
       "      <th>waterfront</th>\n",
       "      <th>view</th>\n",
       "      <th>condition</th>\n",
       "      <th>grade</th>\n",
       "      <th>sqft_above</th>\n",
       "      <th>sqft_basement</th>\n",
       "      <th>yr_built</th>\n",
       "      <th>yr_renovated</th>\n",
       "      <th>lat</th>\n",
       "      <th>long</th>\n",
       "      <th>sqft_living15</th>\n",
       "      <th>sqft_lot15</th>\n",
       "    </tr>\n",
       "  </thead>\n",
       "  <tbody>\n",
       "    <tr>\n",
       "      <th>0</th>\n",
       "      <td>20141013T000000</td>\n",
       "      <td>221900.0</td>\n",
       "      <td>3</td>\n",
       "      <td>1.00</td>\n",
       "      <td>1180</td>\n",
       "      <td>5650</td>\n",
       "      <td>1.0</td>\n",
       "      <td>0</td>\n",
       "      <td>0</td>\n",
       "      <td>3</td>\n",
       "      <td>7</td>\n",
       "      <td>1180</td>\n",
       "      <td>0</td>\n",
       "      <td>1955</td>\n",
       "      <td>0</td>\n",
       "      <td>47.5112</td>\n",
       "      <td>-122.257</td>\n",
       "      <td>1340</td>\n",
       "      <td>5650</td>\n",
       "    </tr>\n",
       "    <tr>\n",
       "      <th>1</th>\n",
       "      <td>20141209T000000</td>\n",
       "      <td>538000.0</td>\n",
       "      <td>3</td>\n",
       "      <td>2.25</td>\n",
       "      <td>2570</td>\n",
       "      <td>7242</td>\n",
       "      <td>2.0</td>\n",
       "      <td>0</td>\n",
       "      <td>0</td>\n",
       "      <td>3</td>\n",
       "      <td>7</td>\n",
       "      <td>2170</td>\n",
       "      <td>400</td>\n",
       "      <td>1951</td>\n",
       "      <td>1991</td>\n",
       "      <td>47.7210</td>\n",
       "      <td>-122.319</td>\n",
       "      <td>1690</td>\n",
       "      <td>7639</td>\n",
       "    </tr>\n",
       "    <tr>\n",
       "      <th>2</th>\n",
       "      <td>20150225T000000</td>\n",
       "      <td>180000.0</td>\n",
       "      <td>2</td>\n",
       "      <td>1.00</td>\n",
       "      <td>770</td>\n",
       "      <td>10000</td>\n",
       "      <td>1.0</td>\n",
       "      <td>0</td>\n",
       "      <td>0</td>\n",
       "      <td>3</td>\n",
       "      <td>6</td>\n",
       "      <td>770</td>\n",
       "      <td>0</td>\n",
       "      <td>1933</td>\n",
       "      <td>0</td>\n",
       "      <td>47.7379</td>\n",
       "      <td>-122.233</td>\n",
       "      <td>2720</td>\n",
       "      <td>8062</td>\n",
       "    </tr>\n",
       "    <tr>\n",
       "      <th>3</th>\n",
       "      <td>20141209T000000</td>\n",
       "      <td>604000.0</td>\n",
       "      <td>4</td>\n",
       "      <td>3.00</td>\n",
       "      <td>1960</td>\n",
       "      <td>5000</td>\n",
       "      <td>1.0</td>\n",
       "      <td>0</td>\n",
       "      <td>0</td>\n",
       "      <td>5</td>\n",
       "      <td>7</td>\n",
       "      <td>1050</td>\n",
       "      <td>910</td>\n",
       "      <td>1965</td>\n",
       "      <td>0</td>\n",
       "      <td>47.5208</td>\n",
       "      <td>-122.393</td>\n",
       "      <td>1360</td>\n",
       "      <td>5000</td>\n",
       "    </tr>\n",
       "    <tr>\n",
       "      <th>4</th>\n",
       "      <td>20150218T000000</td>\n",
       "      <td>510000.0</td>\n",
       "      <td>3</td>\n",
       "      <td>2.00</td>\n",
       "      <td>1680</td>\n",
       "      <td>8080</td>\n",
       "      <td>1.0</td>\n",
       "      <td>0</td>\n",
       "      <td>0</td>\n",
       "      <td>3</td>\n",
       "      <td>8</td>\n",
       "      <td>1680</td>\n",
       "      <td>0</td>\n",
       "      <td>1987</td>\n",
       "      <td>0</td>\n",
       "      <td>47.6168</td>\n",
       "      <td>-122.045</td>\n",
       "      <td>1800</td>\n",
       "      <td>7503</td>\n",
       "    </tr>\n",
       "  </tbody>\n",
       "</table>\n",
       "</div>"
      ],
      "text/plain": [
       "              date     price  bedrooms  bathrooms  sqft_living  sqft_lot  \\\n",
       "0  20141013T000000  221900.0         3       1.00         1180      5650   \n",
       "1  20141209T000000  538000.0         3       2.25         2570      7242   \n",
       "2  20150225T000000  180000.0         2       1.00          770     10000   \n",
       "3  20141209T000000  604000.0         4       3.00         1960      5000   \n",
       "4  20150218T000000  510000.0         3       2.00         1680      8080   \n",
       "\n",
       "   floors  waterfront  view  condition  grade  sqft_above  sqft_basement  \\\n",
       "0     1.0           0     0          3      7        1180              0   \n",
       "1     2.0           0     0          3      7        2170            400   \n",
       "2     1.0           0     0          3      6         770              0   \n",
       "3     1.0           0     0          5      7        1050            910   \n",
       "4     1.0           0     0          3      8        1680              0   \n",
       "\n",
       "   yr_built  yr_renovated      lat     long  sqft_living15  sqft_lot15  \n",
       "0      1955             0  47.5112 -122.257           1340        5650  \n",
       "1      1951          1991  47.7210 -122.319           1690        7639  \n",
       "2      1933             0  47.7379 -122.233           2720        8062  \n",
       "3      1965             0  47.5208 -122.393           1360        5000  \n",
       "4      1987             0  47.6168 -122.045           1800        7503  "
      ]
     },
     "execution_count": 202,
     "metadata": {},
     "output_type": "execute_result"
    }
   ],
   "source": [
    "df.drop('id', axis = 1, inplace = True)\n",
    "df.drop('zipcode', axis = 1, inplace = True)\n",
    "\n",
    "\n",
    "df.head()"
   ]
  },
  {
   "cell_type": "code",
   "execution_count": 203,
   "metadata": {},
   "outputs": [
    {
     "name": "stdout",
     "output_type": "stream",
     "text": [
      "['price' 'bedrooms' 'bathrooms' 'sqft_living' 'sqft_lot' 'floors'\n",
      " 'waterfront' 'view' 'condition' 'grade' 'sqft_above' 'sqft_basement'\n",
      " 'yr_built' 'yr_renovated' 'lat' 'long' 'sqft_living15' 'sqft_lot15'\n",
      " 'month_sold' 'year_sold']\n"
     ]
    }
   ],
   "source": [
    "#Feature engineering\n",
    "#Converting date feature to both date and month feature.\n",
    "\n",
    "df['date'] = pd.to_datetime(df['date'])\n",
    "\n",
    "df['month_sold'] = df['date'].apply(lambda date:date.month)\n",
    "df['year_sold'] = df['date'].apply(lambda date:date.year)\n",
    "\n",
    "df = df.drop('date',axis=1)\n",
    "\n",
    "print(df.columns.values)"
   ]
  },
  {
   "cell_type": "code",
   "execution_count": 204,
   "metadata": {},
   "outputs": [],
   "source": [
    "#Convert yr_renovated to is_renovated as it is a data point with higher quality for our case.\n",
    "df['yr_renovated'] = df['yr_renovated'].apply(lambda x: 1 if x > 0 else 0)\n",
    "df['yr_renovated'].value_counts()\n",
    "\n",
    "#Renaming the yr_renovated to is_renovated. 0 is not renovated and 1 is renovated to create a binary feature.\n",
    "df.rename(columns={'yr_renovated':'is_renovated'}, inplace=True)\n",
    "\n",
    "#Creating house age to make numbers more relevant than the year built.\n",
    "df['house_age'] = (2015-df['yr_built'])\n",
    "\n",
    "df.drop('yr_built', axis = 1, inplace = True)\n"
   ]
  },
  {
   "cell_type": "code",
   "execution_count": 205,
   "metadata": {},
   "outputs": [
    {
     "data": {
      "text/html": [
       "<div>\n",
       "<style scoped>\n",
       "    .dataframe tbody tr th:only-of-type {\n",
       "        vertical-align: middle;\n",
       "    }\n",
       "\n",
       "    .dataframe tbody tr th {\n",
       "        vertical-align: top;\n",
       "    }\n",
       "\n",
       "    .dataframe thead th {\n",
       "        text-align: right;\n",
       "    }\n",
       "</style>\n",
       "<table border=\"1\" class=\"dataframe\">\n",
       "  <thead>\n",
       "    <tr style=\"text-align: right;\">\n",
       "      <th></th>\n",
       "      <th>price</th>\n",
       "      <th>bedrooms</th>\n",
       "      <th>bathrooms</th>\n",
       "      <th>sqft_living</th>\n",
       "      <th>sqft_lot</th>\n",
       "      <th>floors</th>\n",
       "      <th>waterfront</th>\n",
       "      <th>view</th>\n",
       "      <th>condition</th>\n",
       "      <th>grade</th>\n",
       "      <th>sqft_above</th>\n",
       "      <th>sqft_basement</th>\n",
       "      <th>is_renovated</th>\n",
       "      <th>lat</th>\n",
       "      <th>long</th>\n",
       "      <th>sqft_living15</th>\n",
       "      <th>sqft_lot15</th>\n",
       "      <th>month_sold</th>\n",
       "      <th>year_sold</th>\n",
       "      <th>house_age</th>\n",
       "    </tr>\n",
       "  </thead>\n",
       "  <tbody>\n",
       "    <tr>\n",
       "      <th>0</th>\n",
       "      <td>221900.0</td>\n",
       "      <td>3</td>\n",
       "      <td>1.00</td>\n",
       "      <td>1180</td>\n",
       "      <td>5650</td>\n",
       "      <td>1.0</td>\n",
       "      <td>0</td>\n",
       "      <td>0</td>\n",
       "      <td>3</td>\n",
       "      <td>7</td>\n",
       "      <td>1180</td>\n",
       "      <td>0</td>\n",
       "      <td>0</td>\n",
       "      <td>47.5112</td>\n",
       "      <td>-122.257</td>\n",
       "      <td>1340</td>\n",
       "      <td>5650</td>\n",
       "      <td>10</td>\n",
       "      <td>2014</td>\n",
       "      <td>60</td>\n",
       "    </tr>\n",
       "    <tr>\n",
       "      <th>1</th>\n",
       "      <td>538000.0</td>\n",
       "      <td>3</td>\n",
       "      <td>2.25</td>\n",
       "      <td>2570</td>\n",
       "      <td>7242</td>\n",
       "      <td>2.0</td>\n",
       "      <td>0</td>\n",
       "      <td>0</td>\n",
       "      <td>3</td>\n",
       "      <td>7</td>\n",
       "      <td>2170</td>\n",
       "      <td>400</td>\n",
       "      <td>1</td>\n",
       "      <td>47.7210</td>\n",
       "      <td>-122.319</td>\n",
       "      <td>1690</td>\n",
       "      <td>7639</td>\n",
       "      <td>12</td>\n",
       "      <td>2014</td>\n",
       "      <td>64</td>\n",
       "    </tr>\n",
       "    <tr>\n",
       "      <th>2</th>\n",
       "      <td>180000.0</td>\n",
       "      <td>2</td>\n",
       "      <td>1.00</td>\n",
       "      <td>770</td>\n",
       "      <td>10000</td>\n",
       "      <td>1.0</td>\n",
       "      <td>0</td>\n",
       "      <td>0</td>\n",
       "      <td>3</td>\n",
       "      <td>6</td>\n",
       "      <td>770</td>\n",
       "      <td>0</td>\n",
       "      <td>0</td>\n",
       "      <td>47.7379</td>\n",
       "      <td>-122.233</td>\n",
       "      <td>2720</td>\n",
       "      <td>8062</td>\n",
       "      <td>2</td>\n",
       "      <td>2015</td>\n",
       "      <td>82</td>\n",
       "    </tr>\n",
       "    <tr>\n",
       "      <th>3</th>\n",
       "      <td>604000.0</td>\n",
       "      <td>4</td>\n",
       "      <td>3.00</td>\n",
       "      <td>1960</td>\n",
       "      <td>5000</td>\n",
       "      <td>1.0</td>\n",
       "      <td>0</td>\n",
       "      <td>0</td>\n",
       "      <td>5</td>\n",
       "      <td>7</td>\n",
       "      <td>1050</td>\n",
       "      <td>910</td>\n",
       "      <td>0</td>\n",
       "      <td>47.5208</td>\n",
       "      <td>-122.393</td>\n",
       "      <td>1360</td>\n",
       "      <td>5000</td>\n",
       "      <td>12</td>\n",
       "      <td>2014</td>\n",
       "      <td>50</td>\n",
       "    </tr>\n",
       "    <tr>\n",
       "      <th>4</th>\n",
       "      <td>510000.0</td>\n",
       "      <td>3</td>\n",
       "      <td>2.00</td>\n",
       "      <td>1680</td>\n",
       "      <td>8080</td>\n",
       "      <td>1.0</td>\n",
       "      <td>0</td>\n",
       "      <td>0</td>\n",
       "      <td>3</td>\n",
       "      <td>8</td>\n",
       "      <td>1680</td>\n",
       "      <td>0</td>\n",
       "      <td>0</td>\n",
       "      <td>47.6168</td>\n",
       "      <td>-122.045</td>\n",
       "      <td>1800</td>\n",
       "      <td>7503</td>\n",
       "      <td>2</td>\n",
       "      <td>2015</td>\n",
       "      <td>28</td>\n",
       "    </tr>\n",
       "  </tbody>\n",
       "</table>\n",
       "</div>"
      ],
      "text/plain": [
       "      price  bedrooms  bathrooms  sqft_living  sqft_lot  floors  waterfront  \\\n",
       "0  221900.0         3       1.00         1180      5650     1.0           0   \n",
       "1  538000.0         3       2.25         2570      7242     2.0           0   \n",
       "2  180000.0         2       1.00          770     10000     1.0           0   \n",
       "3  604000.0         4       3.00         1960      5000     1.0           0   \n",
       "4  510000.0         3       2.00         1680      8080     1.0           0   \n",
       "\n",
       "   view  condition  grade  sqft_above  sqft_basement  is_renovated      lat  \\\n",
       "0     0          3      7        1180              0             0  47.5112   \n",
       "1     0          3      7        2170            400             1  47.7210   \n",
       "2     0          3      6         770              0             0  47.7379   \n",
       "3     0          5      7        1050            910             0  47.5208   \n",
       "4     0          3      8        1680              0             0  47.6168   \n",
       "\n",
       "      long  sqft_living15  sqft_lot15  month_sold  year_sold  house_age  \n",
       "0 -122.257           1340        5650          10       2014         60  \n",
       "1 -122.319           1690        7639          12       2014         64  \n",
       "2 -122.233           2720        8062           2       2015         82  \n",
       "3 -122.393           1360        5000          12       2014         50  \n",
       "4 -122.045           1800        7503           2       2015         28  "
      ]
     },
     "execution_count": 205,
     "metadata": {},
     "output_type": "execute_result"
    }
   ],
   "source": [
    "#Shows the dataset with changed features.\n",
    "df.head()"
   ]
  },
  {
   "cell_type": "code",
   "execution_count": 206,
   "metadata": {},
   "outputs": [
    {
     "data": {
      "image/png": "[encoded data removed]",
      "text/plain": [
       "<Figure size 936x936 with 2 Axes>"
      ]
     },
     "metadata": {},
     "output_type": "display_data"
    }
   ],
   "source": [
    "#We used the Seaborn library to show a Pearson Correlation Matrix. \n",
    "sns.set(style = \"whitegrid\", font_scale = 1)\n",
    "\n",
    "plt.figure(figsize = (13, 13))\n",
    "plt.title('Pearson Correlation Matrix',fontsize = 30)\n",
    "sns.heatmap(df.corr(),linewidths = 0.3, vmax = 0.9, square = True, cmap = \"GnBu\", linecolor = 'w',\n",
    "            annot = True, annot_kws = {\"size\":7}, cbar_kws = {\"shrink\": .7})\n",
    "plt.show()"
   ]
  },
  {
   "cell_type": "code",
   "execution_count": 207,
   "metadata": {},
   "outputs": [],
   "source": [
    " #We drop the feature month_sold as it confuses the models. As it correlates weakly to price, we drop it as it does not have a big impact on the outcome of the model. \n",
    "df.drop('month_sold', axis = 1, inplace = True)"
   ]
  },
  {
   "cell_type": "code",
   "execution_count": 208,
   "metadata": {},
   "outputs": [
    {
     "data": {
      "image/png": "[encoded data removed]",
      "text/plain": [
       "<Figure size 432x288 with 1 Axes>"
      ]
     },
     "metadata": {},
     "output_type": "display_data"
    }
   ],
   "source": [
    "plt.scatter(df['sqft_living'], df['price'], c = \"orange\")\n",
    "plt.title('Scatterplot - Price vs. sqft_living')\n",
    "plt.xlabel('Sqft_living')\n",
    "plt.ylabel('Price')\n",
    "plt.ticklabel_format(style = 'plain')\n",
    "plt.show()\n"
   ]
  },
  {
   "cell_type": "code",
   "execution_count": 209,
   "metadata": {},
   "outputs": [
    {
     "data": {
      "image/png": "[encoded data removed]",
      "text/plain": [
       "<Figure size 432x288 with 1 Axes>"
      ]
     },
     "metadata": {},
     "output_type": "display_data"
    }
   ],
   "source": [
    "plt.scatter(df['grade'], df['price'], c = \"blue\")\n",
    "plt.title('Scatterplot - Price vs. Grade')\n",
    "plt.xlabel('Grade')\n",
    "plt.ylabel('Price')\n",
    "plt.ticklabel_format(style = 'plain')\n",
    "plt.show()"
   ]
  },
  {
   "cell_type": "code",
   "execution_count": 210,
   "metadata": {},
   "outputs": [],
   "source": [
    "#We dropped the price feature to set it as the target value, to the model predicting the price depending on the other features.\n",
    "X = df.drop('price', axis = 1)\n",
    "y = df['price']\n",
    "\n",
    "#We specify the test size and random state, to genereate consistent randomness.\n",
    "X_train, X_test, y_train, y_test = train_test_split( X, y, test_size = 0.25, random_state = 99)"
   ]
  },
  {
   "cell_type": "code",
   "execution_count": 211,
   "metadata": {},
   "outputs": [
    {
     "name": "stdout",
     "output_type": "stream",
     "text": [
      "The shape of the training data is:  (16209, 18)\n",
      "The shape of the test data is:  (5404, 18)\n"
     ]
    }
   ],
   "source": [
    "print('The shape of the training data is: ',X_train.shape)\n",
    "print('The shape of the test data is: ',X_test.shape)"
   ]
  },
  {
   "cell_type": "code",
   "execution_count": 212,
   "metadata": {},
   "outputs": [
    {
     "data": {
      "text/html": [
       "<div>\n",
       "<style scoped>\n",
       "    .dataframe tbody tr th:only-of-type {\n",
       "        vertical-align: middle;\n",
       "    }\n",
       "\n",
       "    .dataframe tbody tr th {\n",
       "        vertical-align: top;\n",
       "    }\n",
       "\n",
       "    .dataframe thead th {\n",
       "        text-align: right;\n",
       "    }\n",
       "</style>\n",
       "<table border=\"1\" class=\"dataframe\">\n",
       "  <thead>\n",
       "    <tr style=\"text-align: right;\">\n",
       "      <th></th>\n",
       "      <th>bedrooms</th>\n",
       "      <th>bathrooms</th>\n",
       "      <th>sqft_living</th>\n",
       "      <th>sqft_lot</th>\n",
       "      <th>floors</th>\n",
       "      <th>waterfront</th>\n",
       "      <th>view</th>\n",
       "      <th>condition</th>\n",
       "      <th>grade</th>\n",
       "      <th>sqft_above</th>\n",
       "      <th>sqft_basement</th>\n",
       "      <th>is_renovated</th>\n",
       "      <th>lat</th>\n",
       "      <th>long</th>\n",
       "      <th>sqft_living15</th>\n",
       "      <th>sqft_lot15</th>\n",
       "      <th>year_sold</th>\n",
       "      <th>house_age</th>\n",
       "    </tr>\n",
       "  </thead>\n",
       "  <tbody>\n",
       "    <tr>\n",
       "      <th>137</th>\n",
       "      <td>4</td>\n",
       "      <td>2.25</td>\n",
       "      <td>2590</td>\n",
       "      <td>10002</td>\n",
       "      <td>1.0</td>\n",
       "      <td>0</td>\n",
       "      <td>0</td>\n",
       "      <td>4</td>\n",
       "      <td>8</td>\n",
       "      <td>1340</td>\n",
       "      <td>1250</td>\n",
       "      <td>0</td>\n",
       "      <td>47.7689</td>\n",
       "      <td>-122.266</td>\n",
       "      <td>1550</td>\n",
       "      <td>10436</td>\n",
       "      <td>2014</td>\n",
       "      <td>47</td>\n",
       "    </tr>\n",
       "    <tr>\n",
       "      <th>1641</th>\n",
       "      <td>4</td>\n",
       "      <td>2.50</td>\n",
       "      <td>2380</td>\n",
       "      <td>12573</td>\n",
       "      <td>1.0</td>\n",
       "      <td>0</td>\n",
       "      <td>0</td>\n",
       "      <td>4</td>\n",
       "      <td>9</td>\n",
       "      <td>2380</td>\n",
       "      <td>0</td>\n",
       "      <td>0</td>\n",
       "      <td>47.5984</td>\n",
       "      <td>-122.176</td>\n",
       "      <td>2900</td>\n",
       "      <td>10700</td>\n",
       "      <td>2014</td>\n",
       "      <td>52</td>\n",
       "    </tr>\n",
       "    <tr>\n",
       "      <th>8822</th>\n",
       "      <td>2</td>\n",
       "      <td>1.00</td>\n",
       "      <td>870</td>\n",
       "      <td>4600</td>\n",
       "      <td>1.0</td>\n",
       "      <td>0</td>\n",
       "      <td>0</td>\n",
       "      <td>4</td>\n",
       "      <td>7</td>\n",
       "      <td>870</td>\n",
       "      <td>0</td>\n",
       "      <td>0</td>\n",
       "      <td>47.5274</td>\n",
       "      <td>-122.379</td>\n",
       "      <td>930</td>\n",
       "      <td>4600</td>\n",
       "      <td>2014</td>\n",
       "      <td>73</td>\n",
       "    </tr>\n",
       "    <tr>\n",
       "      <th>15503</th>\n",
       "      <td>4</td>\n",
       "      <td>2.50</td>\n",
       "      <td>2250</td>\n",
       "      <td>6840</td>\n",
       "      <td>2.0</td>\n",
       "      <td>0</td>\n",
       "      <td>0</td>\n",
       "      <td>3</td>\n",
       "      <td>9</td>\n",
       "      <td>2250</td>\n",
       "      <td>0</td>\n",
       "      <td>0</td>\n",
       "      <td>47.4398</td>\n",
       "      <td>-122.151</td>\n",
       "      <td>2480</td>\n",
       "      <td>7386</td>\n",
       "      <td>2014</td>\n",
       "      <td>28</td>\n",
       "    </tr>\n",
       "    <tr>\n",
       "      <th>18387</th>\n",
       "      <td>3</td>\n",
       "      <td>1.50</td>\n",
       "      <td>1200</td>\n",
       "      <td>6240</td>\n",
       "      <td>1.0</td>\n",
       "      <td>0</td>\n",
       "      <td>0</td>\n",
       "      <td>3</td>\n",
       "      <td>8</td>\n",
       "      <td>1030</td>\n",
       "      <td>170</td>\n",
       "      <td>0</td>\n",
       "      <td>47.6222</td>\n",
       "      <td>-122.287</td>\n",
       "      <td>2810</td>\n",
       "      <td>6240</td>\n",
       "      <td>2014</td>\n",
       "      <td>63</td>\n",
       "    </tr>\n",
       "  </tbody>\n",
       "</table>\n",
       "</div>"
      ],
      "text/plain": [
       "       bedrooms  bathrooms  sqft_living  sqft_lot  floors  waterfront  view  \\\n",
       "137           4       2.25         2590     10002     1.0           0     0   \n",
       "1641          4       2.50         2380     12573     1.0           0     0   \n",
       "8822          2       1.00          870      4600     1.0           0     0   \n",
       "15503         4       2.50         2250      6840     2.0           0     0   \n",
       "18387         3       1.50         1200      6240     1.0           0     0   \n",
       "\n",
       "       condition  grade  sqft_above  sqft_basement  is_renovated      lat  \\\n",
       "137            4      8        1340           1250             0  47.7689   \n",
       "1641           4      9        2380              0             0  47.5984   \n",
       "8822           4      7         870              0             0  47.5274   \n",
       "15503          3      9        2250              0             0  47.4398   \n",
       "18387          3      8        1030            170             0  47.6222   \n",
       "\n",
       "          long  sqft_living15  sqft_lot15  year_sold  house_age  \n",
       "137   -122.266           1550       10436       2014         47  \n",
       "1641  -122.176           2900       10700       2014         52  \n",
       "8822  -122.379            930        4600       2014         73  \n",
       "15503 -122.151           2480        7386       2014         28  \n",
       "18387 -122.287           2810        6240       2014         63  "
      ]
     },
     "execution_count": 212,
     "metadata": {},
     "output_type": "execute_result"
    }
   ],
   "source": [
    "X_train.head()"
   ]
  },
  {
   "cell_type": "code",
   "execution_count": 213,
   "metadata": {},
   "outputs": [],
   "source": [
    "#Two of the models we have decided to use are sensitive to underfitting/overfitting and require scaling we scale the data.\n",
    "\n",
    "binaryFeat = ['waterfront','is_renovated']\n",
    "ordFeat = ['grade','condition','view']\n",
    "numFeat = ['bedrooms', 'bathrooms', 'sqft_living', 'sqft_lot', 'floors',\n",
    "            'sqft_above', 'sqft_basement', 'house_age', 'lat', 'long',\n",
    "            'sqft_living15', 'sqft_lot15', 'year_sold']\n",
    "\n",
    "OurFeaturesToScale = ordFeat + numFeat\n",
    "\n",
    "ScalerVariable = MinMaxScaler()\n",
    "\n",
    "X_train[OurFeaturesToScale] = ScalerVariable.fit_transform(X_train[OurFeaturesToScale])\n",
    "X_test[OurFeaturesToScale] = ScalerVariable.transform(X_test[OurFeaturesToScale])"
   ]
  },
  {
   "cell_type": "code",
   "execution_count": 214,
   "metadata": {},
   "outputs": [
    {
     "name": "stdout",
     "output_type": "stream",
     "text": [
      "Max:  bedrooms         1.0\n",
      "bathrooms        1.0\n",
      "sqft_living      1.0\n",
      "sqft_lot         1.0\n",
      "floors           1.0\n",
      "waterfront       1.0\n",
      "view             1.0\n",
      "condition        1.0\n",
      "grade            1.0\n",
      "sqft_above       1.0\n",
      "sqft_basement    1.0\n",
      "is_renovated     1.0\n",
      "lat              1.0\n",
      "long             1.0\n",
      "sqft_living15    1.0\n",
      "sqft_lot15       1.0\n",
      "year_sold        1.0\n",
      "house_age        1.0\n",
      "dtype: float64 \n",
      "\n",
      "Min:  bedrooms         0.0\n",
      "bathrooms        0.0\n",
      "sqft_living      0.0\n",
      "sqft_lot         0.0\n",
      "floors           0.0\n",
      "waterfront       0.0\n",
      "view             0.0\n",
      "condition        0.0\n",
      "grade            0.0\n",
      "sqft_above       0.0\n",
      "sqft_basement    0.0\n",
      "is_renovated     0.0\n",
      "lat              0.0\n",
      "long             0.0\n",
      "sqft_living15    0.0\n",
      "sqft_lot15       0.0\n",
      "year_sold        0.0\n",
      "house_age        0.0\n",
      "dtype: float64\n"
     ]
    }
   ],
   "source": [
    "#Checking that it scaled the data properly. \n",
    "print('Max: ',X_train.max(), \"\\n\")\n",
    "print('Min: ', X_train.min())"
   ]
  },
  {
   "cell_type": "code",
   "execution_count": 215,
   "metadata": {},
   "outputs": [
    {
     "name": "stdout",
     "output_type": "stream",
     "text": [
      "Features with strongest correlation to price:\n",
      " price            1.000000\n",
      "sqft_living      0.702035\n",
      "grade            0.667434\n",
      "sqft_above       0.605567\n",
      "sqft_living15    0.585379\n",
      "bathrooms        0.525138\n",
      "view             0.397293\n",
      "sqft_basement    0.323816\n",
      "bedrooms         0.308350\n",
      "lat              0.307003\n",
      "waterfront       0.266369\n",
      "Name: price, dtype: float64\n"
     ]
    }
   ],
   "source": [
    "#Show the features with the highest correlation to price. Obviously, price will perfectly correlate with price.\n",
    "price_correlation = df.corr()['price'].sort_values(ascending=False).abs()\n",
    "print('Features with strongest correlation to price:\\n', price_correlation[:11])"
   ]
  },
  {
   "cell_type": "code",
   "execution_count": 216,
   "metadata": {},
   "outputs": [
    {
     "name": "stdout",
     "output_type": "stream",
     "text": [
      "Features with weakest correlation to price:\n",
      " house_age      -0.054012\n",
      "year_sold       0.003576\n",
      "long            0.021626\n",
      "condition       0.036362\n",
      "sqft_lot15      0.082447\n",
      "sqft_lot        0.089661\n",
      "is_renovated    0.126092\n",
      "floors          0.256794\n",
      "waterfront      0.266369\n",
      "lat             0.307003\n",
      "bedrooms        0.308350\n",
      "Name: price, dtype: float64\n"
     ]
    }
   ],
   "source": [
    "#Neagtive correlation means that when house_age move in one direction, price moves in the opposite direction.\n",
    "price_correlation = df.corr()['price'].sort_values(ascending = True)\n",
    "print('Features with weakest correlation to price:\\n',price_correlation[:11])"
   ]
  },
  {
   "cell_type": "code",
   "execution_count": 217,
   "metadata": {},
   "outputs": [
    {
     "name": "stdout",
     "output_type": "stream",
     "text": [
      "Linear regression: Train accuracy is:   0.7004\n",
      "Linear regression: Test accuracy is:         0.6853\n",
      "Linear Regression: Mean cross-validation accuracy: 0.6981\n"
     ]
    }
   ],
   "source": [
    "#Linear Regression Model\n",
    "linReg = LinearRegression().fit(X_train, y_train)\n",
    "print(\"Linear regression: Train accuracy is:  \", round(linReg.score(X_train, y_train),(4)))\n",
    "print(\"Linear regression: Test accuracy is:        \", round(linReg.score(X_test, y_test),(4)))\n",
    "\n",
    "cross_scores = cross_val_score(LinearRegression(), X_train, y_train, cv = 5)\n",
    "print('Linear Regression: Mean cross-validation accuracy: {:.4f}'.format(np.mean(cross_scores)))"
   ]
  },
  {
   "cell_type": "code",
   "execution_count": 218,
   "metadata": {},
   "outputs": [
    {
     "name": "stdout",
     "output_type": "stream",
     "text": [
      "The shape of our dataframe, not including our target column which is price is: (21613, 18)\n",
      "The shape of the best features is:  (16209, 10)\n",
      "Index(['bedrooms', 'bathrooms', 'sqft_living', 'waterfront', 'view', 'grade',\n",
      "       'sqft_above', 'sqft_basement', 'lat', 'sqft_living15'],\n",
      "      dtype='object')\n"
     ]
    }
   ],
   "source": [
    "#We use SelecKBest to find the top 10 features in our dataset.\n",
    "#The purpose of this is to test if the test and train accuracy will improve we use less more the most important features.\n",
    "print('The shape of our dataframe, not including our target column which is price is:',X.shape)\n",
    "\n",
    "bestK = SelectKBest(f_regression, k = 10)\n",
    "bestK.fit(X_train, y_train)\n",
    "X_train_bestK = bestK.transform(X_train)\n",
    "X_test_bestK = bestK.transform(X_test)\n",
    "\n",
    "print('The shape of the best features is: ',X_train_bestK.shape)\n",
    "print(X.columns[bestK.get_support()])\n",
    "\n",
    "best_features = X.columns[bestK.get_support()]"
   ]
  },
  {
   "cell_type": "code",
   "execution_count": 219,
   "metadata": {},
   "outputs": [
    {
     "name": "stdout",
     "output_type": "stream",
     "text": [
      "Linear Regression SelectKBest: Train score: 0.6603\n",
      "Linear Regression SelectKBest: Test score: 0.6455\n",
      "Linear Regression SelectKBest: Mean cross-validation accuracy: 0.6582\n"
     ]
    }
   ],
   "source": [
    "#Train, test and cross validation score decreases due to the lower amount of features.\n",
    "linRegBest = LinearRegression().fit(X_train_bestK, y_train)\n",
    "\n",
    "print('Linear Regression SelectKBest: Train score: {:.4f}'.format(linRegBest.score(X_train_bestK, y_train)))\n",
    "print('Linear Regression SelectKBest: Test score: {:.4f}'.format(linRegBest.score(X_test_bestK, y_test)))\n",
    "\n",
    "mean_best_scores = cross_val_score(LinearRegression(),X_train_bestK, y_train, cv = 5)\n",
    "print('Linear Regression SelectKBest: Mean cross-validation accuracy: {:.4f}'.format(np.mean(mean_best_scores)))"
   ]
  },
  {
   "cell_type": "code",
   "execution_count": 220,
   "metadata": {},
   "outputs": [
    {
     "name": "stdout",
     "output_type": "stream",
     "text": [
      "Best cross-validation score: 0.761206739500632\n",
      "Best parameters: {'n_neighbors': 5}\n",
      "Grid Knn-train score:  0.8543886005829058\n",
      "Grid Knn-test score:  0.7638879638009402\n"
     ]
    }
   ],
   "source": [
    "#kNN Regression (without best features)\n",
    "#We use GridSearchCV to find the parameter that yield highest accuracy.\n",
    "paramGridKnn = {'n_neighbors': np.arange(1, 20)}\n",
    "gridKnn = GridSearchCV(KNeighborsRegressor(), paramGridKnn, cv = 5)\n",
    "\n",
    "gridKnn.fit(X_train, y_train)\n",
    "print('Best cross-validation score: {}'.format(gridKnn.best_score_))\n",
    "print('Best parameters:', gridKnn.best_params_)\n",
    "\n",
    "print('Grid kNN-train score: ', gridKnn.score(X_train, y_train))\n",
    "print('Grid kNN-test score: ',gridKnn.score(X_test, y_test))"
   ]
  },
  {
   "cell_type": "code",
   "execution_count": 221,
   "metadata": {},
   "outputs": [
    {
     "name": "stdout",
     "output_type": "stream",
     "text": [
      "Grid Knn SelecKBest: Train score:  0.8190910207294124\n",
      "Grid Knn SelecKBest: Test score:  0.7719107843259307\n",
      "Best Gridd knn cross-validation score: 0.7677202052324514\n",
      "Best parameters: {'n_neighbors': 9}\n"
     ]
    }
   ],
   "source": [
    "#kNN Regression - 10 best features\n",
    "#Examining if accuracy can be improved by only using the 10 best features.\n",
    "paramGridKnn1 = {'n_neighbors': np.arange(1, 20)}\n",
    "gridKnn1 = GridSearchCV(KNeighborsRegressor(), paramGridKnn1, cv = 5)\n",
    "\n",
    "gridKnn1.fit(X_train_bestK, y_train)\n",
    "\n",
    "print('Grid Knn SelecKBest: Train score: ', gridKnn1.score(X_train_bestK, y_train))\n",
    "print('Grid Knn SelecKBest: Test score: ',gridKnn1.score(X_test_bestK, y_test))\n",
    "\n",
    "print('Best Gridd knn cross-validation score: {}'.format(gridKnn1.best_score_))\n",
    "print('Best parameters:', gridKnn1.best_params_)"
   ]
  },
  {
   "cell_type": "code",
   "execution_count": 222,
   "metadata": {},
   "outputs": [
    {
     "name": "stdout",
     "output_type": "stream",
     "text": [
      "RandomForest search: Train score:  0.9264212159873023\n",
      "RandomForest search: Test score:  0.8620995029330256\n",
      "RandomForest search: Cross validation score is:  0.8571056847594148\n",
      "RandomForest search: Best parameters:  {'n_estimators': 100, 'min_samples_split': 4, 'min_samples_leaf': 3, 'max_features': 15, 'max_depth': 10}\n"
     ]
    }
   ],
   "source": [
    "#Random Forest Regressor Model\n",
    "\n",
    "numTrees = [50, 100, 150]\n",
    "numMaxFeatures = [5, 10, 15]\n",
    "maxLevelDepth = [2, 4, 8, 10]\n",
    "maxLevelDepth.append(None)\n",
    "minSamplesSplit = [2, 4]\n",
    "minNumSamplesLeaf = [1, 3]\n",
    "\n",
    "randomGrid = {'n_estimators': numTrees,\n",
    "               'max_features': numMaxFeatures,\n",
    "               'max_depth': maxLevelDepth,\n",
    "               'min_samples_split': minSamplesSplit,\n",
    "               'min_samples_leaf': minNumSamplesLeaf}\n",
    "\n",
    "randomSearch = RandomizedSearchCV(RandomForestRegressor(), param_distributions = randomGrid, n_iter = 10, cv = 3, random_state = 99)\n",
    "\n",
    "randomSearch.fit(X_train, y_train)\n",
    "\n",
    "print('RandomForest search: Train score: ',randomSearch.score(X_train, y_train))\n",
    "print('RandomForest search: Test score: ',randomSearch.score(X_test, y_test))\n",
    "print('RandomForest search: Cross validation score is: ', randomSearch.best_score_)\n",
    "print('RandomForest search: Best parameters: ',randomSearch.best_params_)"
   ]
  },
  {
   "cell_type": "code",
   "execution_count": 223,
   "metadata": {},
   "outputs": [
    {
     "name": "stdout",
     "output_type": "stream",
     "text": [
      "The features with the highest importance: RandomForest:\n",
      "(0.33493310295217127, 'grade')\n",
      "(0.28122036051700805, 'sqft_living')\n",
      "(0.16299511540334272, 'lat')\n",
      "(0.06582476755976387, 'long')\n",
      "(0.0371338399789082, 'sqft_living15')\n"
     ]
    }
   ],
   "source": [
    "#Finding the features that the Random Forest Model considers most important.\n",
    "featureImportances = list(zip(randomSearch.best_estimator_.feature_importances_, X_train.columns))\n",
    "sortedFeatureImportances = sorted(featureImportances, key = itemgetter(0), reverse = True)\n",
    "print('The features with the highest importance: RandomForest:')\n",
    "five_best_rfr = sortedFeatureImportances[0:5]\n",
    "\n",
    "for feature in five_best_rfr:\n",
    "    print(feature)"
   ]
  },
  {
   "cell_type": "code",
   "execution_count": 224,
   "metadata": {},
   "outputs": [
    {
     "data": {
      "text/plain": [
       "Index(['price', 'bedrooms', 'bathrooms', 'sqft_living', 'sqft_lot', 'floors',\n",
       "       'waterfront', 'view', 'condition', 'grade', 'sqft_above',\n",
       "       'sqft_basement', 'is_renovated', 'lat', 'long', 'sqft_living15',\n",
       "       'sqft_lot15', 'year_sold', 'house_age'],\n",
       "      dtype='object')"
      ]
     },
     "execution_count": 224,
     "metadata": {},
     "output_type": "execute_result"
    }
   ],
   "source": [
    "df.keys()"
   ]
  },
  {
   "cell_type": "code",
   "execution_count": 225,
   "metadata": {},
   "outputs": [
    {
     "data": {
      "text/html": [
       "<div>\n",
       "<style scoped>\n",
       "    .dataframe tbody tr th:only-of-type {\n",
       "        vertical-align: middle;\n",
       "    }\n",
       "\n",
       "    .dataframe tbody tr th {\n",
       "        vertical-align: top;\n",
       "    }\n",
       "\n",
       "    .dataframe thead th {\n",
       "        text-align: right;\n",
       "    }\n",
       "</style>\n",
       "<table border=\"1\" class=\"dataframe\">\n",
       "  <thead>\n",
       "    <tr style=\"text-align: right;\">\n",
       "      <th></th>\n",
       "      <th>price</th>\n",
       "      <th>bedrooms</th>\n",
       "      <th>bathrooms</th>\n",
       "      <th>sqft_living</th>\n",
       "      <th>sqft_lot</th>\n",
       "      <th>floors</th>\n",
       "      <th>waterfront</th>\n",
       "      <th>view</th>\n",
       "      <th>condition</th>\n",
       "      <th>grade</th>\n",
       "      <th>sqft_above</th>\n",
       "      <th>sqft_basement</th>\n",
       "      <th>is_renovated</th>\n",
       "      <th>lat</th>\n",
       "      <th>long</th>\n",
       "      <th>sqft_living15</th>\n",
       "      <th>sqft_lot15</th>\n",
       "      <th>year_sold</th>\n",
       "      <th>house_age</th>\n",
       "    </tr>\n",
       "  </thead>\n",
       "  <tbody>\n",
       "    <tr>\n",
       "      <th>0</th>\n",
       "      <td>852500</td>\n",
       "      <td>5</td>\n",
       "      <td>3.75</td>\n",
       "      <td>3830</td>\n",
       "      <td>8131</td>\n",
       "      <td>2.0</td>\n",
       "      <td>0</td>\n",
       "      <td>0</td>\n",
       "      <td>3</td>\n",
       "      <td>10</td>\n",
       "      <td>3830</td>\n",
       "      <td>0</td>\n",
       "      <td>0</td>\n",
       "      <td>47.5837</td>\n",
       "      <td>-121.971</td>\n",
       "      <td>3570</td>\n",
       "      <td>7290</td>\n",
       "      <td>2014</td>\n",
       "      <td>10</td>\n",
       "    </tr>\n",
       "    <tr>\n",
       "      <th>1</th>\n",
       "      <td>455000</td>\n",
       "      <td>3</td>\n",
       "      <td>1.75</td>\n",
       "      <td>890</td>\n",
       "      <td>3800</td>\n",
       "      <td>1.5</td>\n",
       "      <td>0</td>\n",
       "      <td>0</td>\n",
       "      <td>3</td>\n",
       "      <td>7</td>\n",
       "      <td>750</td>\n",
       "      <td>140</td>\n",
       "      <td>0</td>\n",
       "      <td>47.6803</td>\n",
       "      <td>-122.291</td>\n",
       "      <td>1280</td>\n",
       "      <td>3800</td>\n",
       "      <td>2015</td>\n",
       "      <td>89</td>\n",
       "    </tr>\n",
       "    <tr>\n",
       "      <th>2</th>\n",
       "      <td>240000</td>\n",
       "      <td>2</td>\n",
       "      <td>1.00</td>\n",
       "      <td>720</td>\n",
       "      <td>6345</td>\n",
       "      <td>1.0</td>\n",
       "      <td>0</td>\n",
       "      <td>0</td>\n",
       "      <td>3</td>\n",
       "      <td>6</td>\n",
       "      <td>720</td>\n",
       "      <td>0</td>\n",
       "      <td>0</td>\n",
       "      <td>47.5201</td>\n",
       "      <td>-122.350</td>\n",
       "      <td>720</td>\n",
       "      <td>6345</td>\n",
       "      <td>2014</td>\n",
       "      <td>72</td>\n",
       "    </tr>\n",
       "  </tbody>\n",
       "</table>\n",
       "</div>"
      ],
      "text/plain": [
       "    price  bedrooms  bathrooms  sqft_living  sqft_lot  floors  waterfront  \\\n",
       "0  852500         5       3.75         3830      8131     2.0           0   \n",
       "1  455000         3       1.75          890      3800     1.5           0   \n",
       "2  240000         2       1.00          720      6345     1.0           0   \n",
       "\n",
       "   view  condition  grade  sqft_above  sqft_basement  is_renovated      lat  \\\n",
       "0     0          3     10        3830              0             0  47.5837   \n",
       "1     0          3      7         750            140             0  47.6803   \n",
       "2     0          3      6         720              0             0  47.5201   \n",
       "\n",
       "      long  sqft_living15  sqft_lot15  year_sold  house_age  \n",
       "0 -121.971           3570        7290       2014         10  \n",
       "1 -122.291           1280        3800       2015         89  \n",
       "2 -122.350            720        6345       2014         72  "
      ]
     },
     "execution_count": 225,
     "metadata": {},
     "output_type": "execute_result"
    }
   ],
   "source": [
    "#Reading prediction data. \n",
    "predictionData = pd.read_csv('Three_houses.csv')\n",
    "\n",
    "predictionData.head()"
   ]
  },
  {
   "cell_type": "code",
   "execution_count": 226,
   "metadata": {},
   "outputs": [
    {
     "data": {
      "text/html": [
       "<div>\n",
       "<style scoped>\n",
       "    .dataframe tbody tr th:only-of-type {\n",
       "        vertical-align: middle;\n",
       "    }\n",
       "\n",
       "    .dataframe tbody tr th {\n",
       "        vertical-align: top;\n",
       "    }\n",
       "\n",
       "    .dataframe thead th {\n",
       "        text-align: right;\n",
       "    }\n",
       "</style>\n",
       "<table border=\"1\" class=\"dataframe\">\n",
       "  <thead>\n",
       "    <tr style=\"text-align: right;\">\n",
       "      <th></th>\n",
       "      <th>bedrooms</th>\n",
       "      <th>bathrooms</th>\n",
       "      <th>sqft_living</th>\n",
       "      <th>sqft_lot</th>\n",
       "      <th>floors</th>\n",
       "      <th>waterfront</th>\n",
       "      <th>view</th>\n",
       "      <th>condition</th>\n",
       "      <th>grade</th>\n",
       "      <th>sqft_above</th>\n",
       "      <th>sqft_basement</th>\n",
       "      <th>is_renovated</th>\n",
       "      <th>lat</th>\n",
       "      <th>long</th>\n",
       "      <th>sqft_living15</th>\n",
       "      <th>sqft_lot15</th>\n",
       "      <th>year_sold</th>\n",
       "      <th>house_age</th>\n",
       "    </tr>\n",
       "  </thead>\n",
       "  <tbody>\n",
       "    <tr>\n",
       "      <th>0</th>\n",
       "      <td>0.151515</td>\n",
       "      <td>0.46875</td>\n",
       "      <td>0.267170</td>\n",
       "      <td>0.004579</td>\n",
       "      <td>0.4</td>\n",
       "      <td>0</td>\n",
       "      <td>0.0</td>\n",
       "      <td>0.5</td>\n",
       "      <td>0.750000</td>\n",
       "      <td>0.388158</td>\n",
       "      <td>0.000000</td>\n",
       "      <td>0</td>\n",
       "      <td>0.688113</td>\n",
       "      <td>0.453333</td>\n",
       "      <td>0.588203</td>\n",
       "      <td>0.007742</td>\n",
       "      <td>0.0</td>\n",
       "      <td>0.086957</td>\n",
       "    </tr>\n",
       "    <tr>\n",
       "      <th>1</th>\n",
       "      <td>0.090909</td>\n",
       "      <td>0.21875</td>\n",
       "      <td>0.045283</td>\n",
       "      <td>0.001955</td>\n",
       "      <td>0.2</td>\n",
       "      <td>0</td>\n",
       "      <td>0.0</td>\n",
       "      <td>0.5</td>\n",
       "      <td>0.500000</td>\n",
       "      <td>0.050439</td>\n",
       "      <td>0.033898</td>\n",
       "      <td>0</td>\n",
       "      <td>0.843494</td>\n",
       "      <td>0.186667</td>\n",
       "      <td>0.163421</td>\n",
       "      <td>0.003672</td>\n",
       "      <td>1.0</td>\n",
       "      <td>0.773913</td>\n",
       "    </tr>\n",
       "    <tr>\n",
       "      <th>2</th>\n",
       "      <td>0.060606</td>\n",
       "      <td>0.12500</td>\n",
       "      <td>0.032453</td>\n",
       "      <td>0.003497</td>\n",
       "      <td>0.0</td>\n",
       "      <td>0</td>\n",
       "      <td>0.0</td>\n",
       "      <td>0.5</td>\n",
       "      <td>0.416667</td>\n",
       "      <td>0.047149</td>\n",
       "      <td>0.000000</td>\n",
       "      <td>0</td>\n",
       "      <td>0.585813</td>\n",
       "      <td>0.137500</td>\n",
       "      <td>0.059544</td>\n",
       "      <td>0.006640</td>\n",
       "      <td>0.0</td>\n",
       "      <td>0.626087</td>\n",
       "    </tr>\n",
       "  </tbody>\n",
       "</table>\n",
       "</div>"
      ],
      "text/plain": [
       "   bedrooms  bathrooms  sqft_living  sqft_lot  floors  waterfront  view  \\\n",
       "0  0.151515    0.46875     0.267170  0.004579     0.4           0   0.0   \n",
       "1  0.090909    0.21875     0.045283  0.001955     0.2           0   0.0   \n",
       "2  0.060606    0.12500     0.032453  0.003497     0.0           0   0.0   \n",
       "\n",
       "   condition     grade  sqft_above  sqft_basement  is_renovated       lat  \\\n",
       "0        0.5  0.750000    0.388158       0.000000             0  0.688113   \n",
       "1        0.5  0.500000    0.050439       0.033898             0  0.843494   \n",
       "2        0.5  0.416667    0.047149       0.000000             0  0.585813   \n",
       "\n",
       "       long  sqft_living15  sqft_lot15  year_sold  house_age  \n",
       "0  0.453333       0.588203    0.007742        0.0   0.086957  \n",
       "1  0.186667       0.163421    0.003672        1.0   0.773913  \n",
       "2  0.137500       0.059544    0.006640        0.0   0.626087  "
      ]
     },
     "execution_count": 226,
     "metadata": {},
     "output_type": "execute_result"
    }
   ],
   "source": [
    "predictionData.isnull().values.any()\n",
    "\n",
    "X_to_predict = predictionData.drop('price', axis = 1)\n",
    "\n",
    "X_to_predict[OurFeaturesToScale] = ScalerVariable.transform(X_to_predict[OurFeaturesToScale])\n",
    "\n",
    "X_to_predict.head()"
   ]
  },
  {
   "cell_type": "code",
   "execution_count": 227,
   "metadata": {},
   "outputs": [
    {
     "data": {
      "text/plain": [
       "(16209, 18)"
      ]
     },
     "execution_count": 227,
     "metadata": {},
     "output_type": "execute_result"
    }
   ],
   "source": [
    "X_train.shape\n"
   ]
  },
  {
   "cell_type": "code",
   "execution_count": 228,
   "metadata": {},
   "outputs": [
    {
     "data": {
      "text/plain": [
       "(3, 18)"
      ]
     },
     "execution_count": 228,
     "metadata": {},
     "output_type": "execute_result"
    }
   ],
   "source": [
    "X_to_predict.shape"
   ]
  },
  {
   "cell_type": "code",
   "execution_count": 229,
   "metadata": {},
   "outputs": [
    {
     "name": "stdout",
     "output_type": "stream",
     "text": [
      "1009282.93\n",
      "427765.09\n",
      "130602.43\n"
     ]
    }
   ],
   "source": [
    "#Predicting prices of houses - Linear Regression\n",
    "y_predict_lin_reg = linReg.predict(X_to_predict)\n",
    "\n",
    "for prediction in y_predict_lin_reg:\n",
    "    print('{:.2f}'.format(prediction))"
   ]
  },
  {
   "cell_type": "code",
   "execution_count": 230,
   "metadata": {},
   "outputs": [
    {
     "name": "stdout",
     "output_type": "stream",
     "text": [
      "844500.00\n",
      "550500.00\n",
      "226700.00\n"
     ]
    }
   ],
   "source": [
    "#Predicting prices of houses - kNN Regression\n",
    "\n",
    "y_predict_kNN = gridKnn.predict(X_to_predict)\n",
    "\n",
    "for prediction in y_predict_kNN:\n",
    "    print('{:.2f}'.format(prediction))"
   ]
  },
  {
   "cell_type": "code",
   "execution_count": 240,
   "metadata": {},
   "outputs": [
    {
     "name": "stdout",
     "output_type": "stream",
     "text": [
      "880884.99\n",
      "462831.41\n",
      "225985.64\n"
     ]
    }
   ],
   "source": [
    "#Predicting price of houses - RandomForestRegressor\n",
    "\n",
    "y_predict_rfr = randomSearch.predict(X_to_predict)\n",
    "\n",
    "for prediction in y_predict_rfr:\n",
    "    print('{:.2f}'.format(prediction))"
   ]
  },
  {
   "cell_type": "code",
   "execution_count": 244,
   "metadata": {},
   "outputs": [],
   "source": [
    "#Reading Altered data\n",
    "\n",
    "alteredData = pd.read_csv('AltereredTwoHouses.csv')"
   ]
  },
  {
   "cell_type": "code",
   "execution_count": 245,
   "metadata": {},
   "outputs": [
    {
     "data": {
      "text/html": [
       "<div>\n",
       "<style scoped>\n",
       "    .dataframe tbody tr th:only-of-type {\n",
       "        vertical-align: middle;\n",
       "    }\n",
       "\n",
       "    .dataframe tbody tr th {\n",
       "        vertical-align: top;\n",
       "    }\n",
       "\n",
       "    .dataframe thead th {\n",
       "        text-align: right;\n",
       "    }\n",
       "</style>\n",
       "<table border=\"1\" class=\"dataframe\">\n",
       "  <thead>\n",
       "    <tr style=\"text-align: right;\">\n",
       "      <th></th>\n",
       "      <th>price</th>\n",
       "      <th>bedrooms</th>\n",
       "      <th>bathrooms</th>\n",
       "      <th>sqft_living</th>\n",
       "      <th>sqft_lot</th>\n",
       "      <th>floors</th>\n",
       "      <th>waterfront</th>\n",
       "      <th>view</th>\n",
       "      <th>condition</th>\n",
       "      <th>grade</th>\n",
       "      <th>sqft_above</th>\n",
       "      <th>sqft_basement</th>\n",
       "      <th>is_renovated</th>\n",
       "      <th>lat</th>\n",
       "      <th>long</th>\n",
       "      <th>sqft_living15</th>\n",
       "      <th>sqft_lot15</th>\n",
       "      <th>year_sold</th>\n",
       "      <th>house_age</th>\n",
       "    </tr>\n",
       "  </thead>\n",
       "  <tbody>\n",
       "    <tr>\n",
       "      <th>0</th>\n",
       "      <td>852500</td>\n",
       "      <td>5</td>\n",
       "      <td>3.75</td>\n",
       "      <td>4030</td>\n",
       "      <td>8131</td>\n",
       "      <td>2.0</td>\n",
       "      <td>0</td>\n",
       "      <td>0</td>\n",
       "      <td>4</td>\n",
       "      <td>11</td>\n",
       "      <td>4030</td>\n",
       "      <td>0</td>\n",
       "      <td>1</td>\n",
       "      <td>47.5837</td>\n",
       "      <td>-121.971</td>\n",
       "      <td>3570</td>\n",
       "      <td>7290</td>\n",
       "      <td>2014</td>\n",
       "      <td>10</td>\n",
       "    </tr>\n",
       "    <tr>\n",
       "      <th>1</th>\n",
       "      <td>455000</td>\n",
       "      <td>3</td>\n",
       "      <td>1.75</td>\n",
       "      <td>1090</td>\n",
       "      <td>3800</td>\n",
       "      <td>1.5</td>\n",
       "      <td>0</td>\n",
       "      <td>0</td>\n",
       "      <td>5</td>\n",
       "      <td>10</td>\n",
       "      <td>950</td>\n",
       "      <td>140</td>\n",
       "      <td>1</td>\n",
       "      <td>47.6803</td>\n",
       "      <td>-122.291</td>\n",
       "      <td>1280</td>\n",
       "      <td>3800</td>\n",
       "      <td>2015</td>\n",
       "      <td>89</td>\n",
       "    </tr>\n",
       "  </tbody>\n",
       "</table>\n",
       "</div>"
      ],
      "text/plain": [
       "    price  bedrooms  bathrooms  sqft_living  sqft_lot  floors  waterfront  \\\n",
       "0  852500         5       3.75         4030      8131     2.0           0   \n",
       "1  455000         3       1.75         1090      3800     1.5           0   \n",
       "\n",
       "   view  condition  grade  sqft_above  sqft_basement  is_renovated      lat  \\\n",
       "0     0          4     11        4030              0             1  47.5837   \n",
       "1     0          5     10         950            140             1  47.6803   \n",
       "\n",
       "      long  sqft_living15  sqft_lot15  year_sold  house_age  \n",
       "0 -121.971           3570        7290       2014         10  \n",
       "1 -122.291           1280        3800       2015         89  "
      ]
     },
     "execution_count": 245,
     "metadata": {},
     "output_type": "execute_result"
    }
   ],
   "source": [
    "alteredData.head()"
   ]
  },
  {
   "cell_type": "code",
   "execution_count": 247,
   "metadata": {},
   "outputs": [
    {
     "data": {
      "text/html": [
       "<div>\n",
       "<style scoped>\n",
       "    .dataframe tbody tr th:only-of-type {\n",
       "        vertical-align: middle;\n",
       "    }\n",
       "\n",
       "    .dataframe tbody tr th {\n",
       "        vertical-align: top;\n",
       "    }\n",
       "\n",
       "    .dataframe thead th {\n",
       "        text-align: right;\n",
       "    }\n",
       "</style>\n",
       "<table border=\"1\" class=\"dataframe\">\n",
       "  <thead>\n",
       "    <tr style=\"text-align: right;\">\n",
       "      <th></th>\n",
       "      <th>bedrooms</th>\n",
       "      <th>bathrooms</th>\n",
       "      <th>sqft_living</th>\n",
       "      <th>sqft_lot</th>\n",
       "      <th>floors</th>\n",
       "      <th>waterfront</th>\n",
       "      <th>view</th>\n",
       "      <th>condition</th>\n",
       "      <th>grade</th>\n",
       "      <th>sqft_above</th>\n",
       "      <th>sqft_basement</th>\n",
       "      <th>is_renovated</th>\n",
       "      <th>lat</th>\n",
       "      <th>long</th>\n",
       "      <th>sqft_living15</th>\n",
       "      <th>sqft_lot15</th>\n",
       "      <th>year_sold</th>\n",
       "      <th>house_age</th>\n",
       "    </tr>\n",
       "  </thead>\n",
       "  <tbody>\n",
       "    <tr>\n",
       "      <th>0</th>\n",
       "      <td>0.151515</td>\n",
       "      <td>0.46875</td>\n",
       "      <td>0.282264</td>\n",
       "      <td>0.004579</td>\n",
       "      <td>0.4</td>\n",
       "      <td>0</td>\n",
       "      <td>0.0</td>\n",
       "      <td>0.75</td>\n",
       "      <td>0.833333</td>\n",
       "      <td>0.410088</td>\n",
       "      <td>0.000000</td>\n",
       "      <td>1</td>\n",
       "      <td>0.688113</td>\n",
       "      <td>0.453333</td>\n",
       "      <td>0.588203</td>\n",
       "      <td>0.007742</td>\n",
       "      <td>0.0</td>\n",
       "      <td>0.086957</td>\n",
       "    </tr>\n",
       "    <tr>\n",
       "      <th>1</th>\n",
       "      <td>0.090909</td>\n",
       "      <td>0.21875</td>\n",
       "      <td>0.060377</td>\n",
       "      <td>0.001955</td>\n",
       "      <td>0.2</td>\n",
       "      <td>0</td>\n",
       "      <td>0.0</td>\n",
       "      <td>1.00</td>\n",
       "      <td>0.750000</td>\n",
       "      <td>0.072368</td>\n",
       "      <td>0.033898</td>\n",
       "      <td>1</td>\n",
       "      <td>0.843494</td>\n",
       "      <td>0.186667</td>\n",
       "      <td>0.163421</td>\n",
       "      <td>0.003672</td>\n",
       "      <td>1.0</td>\n",
       "      <td>0.773913</td>\n",
       "    </tr>\n",
       "  </tbody>\n",
       "</table>\n",
       "</div>"
      ],
      "text/plain": [
       "   bedrooms  bathrooms  sqft_living  sqft_lot  floors  waterfront  view  \\\n",
       "0  0.151515    0.46875     0.282264  0.004579     0.4           0   0.0   \n",
       "1  0.090909    0.21875     0.060377  0.001955     0.2           0   0.0   \n",
       "\n",
       "   condition     grade  sqft_above  sqft_basement  is_renovated       lat  \\\n",
       "0       0.75  0.833333    0.410088       0.000000             1  0.688113   \n",
       "1       1.00  0.750000    0.072368       0.033898             1  0.843494   \n",
       "\n",
       "       long  sqft_living15  sqft_lot15  year_sold  house_age  \n",
       "0  0.453333       0.588203    0.007742        0.0   0.086957  \n",
       "1  0.186667       0.163421    0.003672        1.0   0.773913  "
      ]
     },
     "execution_count": 247,
     "metadata": {},
     "output_type": "execute_result"
    }
   ],
   "source": [
    "X_altered_to_predict = alteredData.drop('price', axis = 1)\n",
    "\n",
    "X_altered_to_predict[OurFeaturesToScale] = ScalerVariable.transform(X_altered_to_predict[OurFeaturesToScale])\n",
    "\n",
    "X_altered_to_predict.head()"
   ]
  },
  {
   "cell_type": "code",
   "execution_count": 248,
   "metadata": {},
   "outputs": [
    {
     "data": {
      "text/plain": [
       "(16209, 18)"
      ]
     },
     "execution_count": 248,
     "metadata": {},
     "output_type": "execute_result"
    }
   ],
   "source": [
    "X_train.shape"
   ]
  },
  {
   "cell_type": "code",
   "execution_count": 249,
   "metadata": {},
   "outputs": [
    {
     "data": {
      "text/plain": [
       "(2, 18)"
      ]
     },
     "execution_count": 249,
     "metadata": {},
     "output_type": "execute_result"
    }
   ],
   "source": [
    "X_altered_to_predict.shape"
   ]
  },
  {
   "cell_type": "code",
   "execution_count": 250,
   "metadata": {},
   "outputs": [
    {
     "name": "stdout",
     "output_type": "stream",
     "text": [
      "1232474.95\n",
      "881883.86\n"
     ]
    }
   ],
   "source": [
    "#Predicting prices of houses - Linear Regression\n",
    "y_altered_predict_lin_reg = linReg.predict(X_altered_to_predict)\n",
    "\n",
    "for prediction in y_altered_predict_lin_reg:\n",
    "    print('{:.2f}'.format(prediction))"
   ]
  },
  {
   "cell_type": "code",
   "execution_count": 251,
   "metadata": {},
   "outputs": [
    {
     "name": "stdout",
     "output_type": "stream",
     "text": [
      "1929600.00\n",
      "830598.00\n"
     ]
    }
   ],
   "source": [
    "#Predicting prices of houses - kNN Regression\n",
    "\n",
    "y_altered_predict_kNN = gridKnn.predict(X_altered_to_predict)\n",
    "\n",
    "for prediction in y_altered_predict_kNN:\n",
    "    print('{:.2f}'.format(prediction))"
   ]
  },
  {
   "cell_type": "code",
   "execution_count": 252,
   "metadata": {},
   "outputs": [
    {
     "name": "stdout",
     "output_type": "stream",
     "text": [
      "1052207.18\n",
      "846262.93\n"
     ]
    }
   ],
   "source": [
    "#Predicting price of houses - Random Forest Regressor\n",
    "\n",
    "y_altered_predict_rfr = randomSearch.predict(X_altered_to_predict)\n",
    "\n",
    "for prediction in y_altered_predict_rfr:\n",
    "    print('{:.2f}'.format(prediction))"
   ]
  }
 ],
 "metadata": {
  "interpreter": {
   "hash": "e20435d308dabe9e26cbf6f941eca1f4e7aaec6def8538f34d313c572758f5f5"
  },
  "kernelspec": {
   "display_name": "Python 3.8.8 ('base')",
   "language": "python",
   "name": "python3"
  },
  "language_info": {
   "codemirror_mode": {
    "name": "ipython",
    "version": 3
   },
   "file_extension": ".py",
   "mimetype": "text/x-python",
   "name": "python",
   "nbconvert_exporter": "python",
   "pygments_lexer": "ipython3",
   "version": "3.8.8"
  },
  "orig_nbformat": 4
 },
 "nbformat": 4,
 "nbformat_minor": 2
}
